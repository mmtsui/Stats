{
 "cells": [
  {
   "cell_type": "code",
   "execution_count": 25,
   "id": "0373b740",
   "metadata": {},
   "outputs": [],
   "source": [
    "import pandas as pd\n",
    "import numpy as np  \n",
    "import seaborn as sns \n",
    "import matplotlib.pyplot as plt\n",
    "%matplotlib inline\n",
    "pd.options.display.max_rows = 100\n",
    "pd.options.display.max_columns = 50\n",
    "pd.options.mode.chained_assignment = None\n",
    "\n",
    "# from itables import init_notebook_mode\n",
    "# init_notebook_mode(all_interactive=True)\n"
   ]
  },
  {
   "cell_type": "code",
   "execution_count": 2,
   "id": "65e66215",
   "metadata": {},
   "outputs": [],
   "source": [
    "import warnings\n",
    "warnings.filterwarnings('ignore')"
   ]
  },
  {
   "cell_type": "code",
   "execution_count": 3,
   "id": "6297a7d6",
   "metadata": {},
   "outputs": [
    {
     "name": "stdout",
     "output_type": "stream",
     "text": [
      "(551127, 722)\n"
     ]
    }
   ],
   "source": [
    "df = pd.read_csv(\"PAT_FLAGS.csv\")\n",
    "print(df.shape)"
   ]
  },
  {
   "cell_type": "code",
   "execution_count": 26,
   "id": "0e496032",
   "metadata": {},
   "outputs": [],
   "source": [
    "# Dictionary of clinical concepts\n",
    "clinDict = {\"A1\": \"AcuteStressReaction\",\n",
    "    \"A2\": \"AdjustmentDisorder\",\n",
    "    \"A3\":\"Alcohol\",\n",
    "    \"A4\":\"AntisocialBehavior\",\n",
    "    \"A5\":\"AttentionDeficit\",\n",
    "    \"A6\":\"BipolarI\",\n",
    "    \"A7\":\"BipolarII\",\n",
    "    \"A8\":\"Cannabis\",\n",
    "    \"A9\":\"Cocaine\",\n",
    "    \"A10\":\"ConductDisorder\",\n",
    "    \"A11\":\"ConversionDisorder\",\n",
    "    \"A12\":\"DissociativeDisorder\",\n",
    "    \"A13\":\"EatingDisorder\",\n",
    "    \"A14\":\"ExplosiveDisorder\",\n",
    "    \"A15\":\"FactitiousDisorder\",\n",
    "    \"A16\":\"GeneralizedAnxiety\",\n",
    "    \"A17\":\"TobaccoUse\",\n",
    "    \"A18\":\"HomicidalIdeation\",\n",
    "    \"A19\":\"ImpulseControl\",\n",
    "    \"A20\":\"MajorDepressive\",\n",
    "    \"A21\":\"ObsessiveCompulsive\",\n",
    "    \"A22\":\"Opioid\",\n",
    "    \"A23\":\"FLAG_Other\",\n",
    "    \"A24\":\"OtherAnxiety\",\n",
    "    \"A25\":\"OtherBipolar\",\n",
    "    \"A26\":\"OtherDepressive\",\n",
    "    \"A27\":\"OtherManic\",\n",
    "    \"A28\":\"OtherMood\",\n",
    "    \"A29\":\"OtherPsychosis\",\n",
    "    \"A30\":\"OtherStress\",\n",
    "    \"A31\":\"PainDisorder\",\n",
    "    \"A32\":\"PanicDisorder\",\n",
    "    \"A33\":\"AdultAbuse\",\n",
    "    \"A34\":\"Combat\",\n",
    "    \"A35\":\"Trauma\",\n",
    "    \"A36\":\"PersonalityDisorder\",\n",
    "    \"A37\":\"PhobicDisorder\",\n",
    "    \"A38\":\"PTSD\",\n",
    "    \"A39\":\"Schizophrenia\",\n",
    "    \"A40\":\"SelfHarm\",\n",
    "    \"A41\":\"SomatoformDisorder\",\n",
    "    \"A42\":\"OtherSubstance\",\n",
    "    \"A43\":\"TobaccoSubstance\",\n",
    "    \"A44\":\"SuicideAttempt\",\n",
    "    \"A45\":\"SuicideIdeation\"}"
   ]
  },
  {
   "cell_type": "code",
   "execution_count": 27,
   "id": "dd08de0c",
   "metadata": {},
   "outputs": [
    {
     "name": "stdout",
     "output_type": "stream",
     "text": [
      "(551127, 225)\n"
     ]
    }
   ],
   "source": [
    "# Create df with desired variables\n",
    "df2 = df.filter(regex='_FLAG|_DATE_MIN_PRE|_DATE_MIN_POST|_DATE_MIN_DOD|_DATE_MIN_VA')\n",
    "print(df2.shape)"
   ]
  },
  {
   "cell_type": "code",
   "execution_count": 28,
   "id": "573a1343",
   "metadata": {},
   "outputs": [],
   "source": [
    "dfs = [] # To store and combine dfs\n",
    "\n",
    "for k in clinDict:\n",
    "    \n",
    "    def count_table(df, k):\n",
    "        flag = \"_FLAG\"\n",
    "        preTBI = \"_DATE_MIN_PRE\"\n",
    "        postTBI = \"_DATE_MIN_POST\"\n",
    "        dod = \"_DATE_MIN_DOD\"\n",
    "        va = \"_DATE_MIN_VA\"\n",
    "\n",
    "        kflag = k + flag\n",
    "        kpre = k + preTBI\n",
    "        kpost = k + postTBI\n",
    "        kdod = k + dod\n",
    "        kva = k + va\n",
    "\n",
    "        df = df[[kflag, kpre, kpost, kdod, kva]]\n",
    "\n",
    "        df = df.rename(columns={kflag: \"Flag\", kpre: \"Pre-TBI\",\n",
    "                               kpost: 'Post-TBI',\n",
    "                               kdod: \"DOD\",\n",
    "                               kva: \"VA\"})\n",
    "        return df\n",
    "\n",
    "# Function to generate table of counts and percent. \n",
    "    def transform_dataframe(df1):\n",
    "        column_names = []\n",
    "        n_values = []\n",
    "        percentage_values = []\n",
    "\n",
    "        for column in df1.columns:\n",
    "            column_names.append(column)\n",
    "            valid_cells = df1[column][(df1[column] != 0) & (~df1[column].isnull())].count()\n",
    "            n_values.append(valid_cells)\n",
    "            percentage_values.append(valid_cells / len(df1[column]) * 100)\n",
    "\n",
    "        data = {\n",
    "            \"Variable\": column_names,\n",
    "            \"n\": n_values,\n",
    "            \"%\": percentage_values\n",
    "        }\n",
    "\n",
    "        df2 = pd.DataFrame(data)\n",
    "        df2.insert(0, \"Clinical Concept\", k)\n",
    "        # df2 = df2.style.hide_index().set_caption(clinDict[k])\n",
    "#         df2 = df2.style.hide_index()\n",
    "        \n",
    "        return df2\n",
    "    \n",
    "    df1 = count_table(df, k)\n",
    "    df2 = transform_dataframe(df1)\n",
    "    # display(df2) # prints all 45 tables \n",
    "    \n",
    "    dfs.append(df2)"
   ]
  },
  {
   "cell_type": "code",
   "execution_count": 42,
   "id": "5f8e226f",
   "metadata": {},
   "outputs": [
    {
     "data": {
      "text/plain": [
       "(225, 4)"
      ]
     },
     "execution_count": 42,
     "metadata": {},
     "output_type": "execute_result"
    }
   ],
   "source": [
    "# Combine dfs\n",
    "mergedDf = pd.concat(dfs, axis=0, ignore_index=False)\n",
    "# mergedDf= mergedDf.set_index(['Clinical Concept']) # We can set concept as index if you want but that would impact the search drop down.\n",
    "mergedDf.shape\n",
    "# display(mergedDf)"
   ]
  },
  {
   "cell_type": "code",
   "execution_count": 30,
   "id": "8e3ca59a",
   "metadata": {},
   "outputs": [],
   "source": [
    "import ipywidgets as widgets"
   ]
  },
  {
   "cell_type": "code",
   "execution_count": 43,
   "id": "662cc782",
   "metadata": {},
   "outputs": [],
   "source": [
    "my_list = list(clinDict.keys())\n",
    "my_list.append(\"All\")\n",
    "# print([my_list])"
   ]
  },
  {
   "cell_type": "code",
   "execution_count": 44,
   "id": "8aede765",
   "metadata": {},
   "outputs": [
    {
     "data": {
      "application/vnd.jupyter.widget-view+json": {
       "model_id": "9c4a07079bc34d8e97497470808c048f",
       "version_major": 2,
       "version_minor": 0
      },
      "text/plain": [
       "interactive(children=(Select(description='ClinicalDx', options=('A1', 'A2', 'A3', 'A4', 'A5', 'A6', 'A7', 'A8'…"
      ]
     },
     "execution_count": 44,
     "metadata": {},
     "output_type": "execute_result"
    }
   ],
   "source": [
    "# def view1(ClinicalDx):\n",
    "#     display(mergedDf[mergedDf['Clinical Concept']==ClinicalDx])\n",
    "\n",
    "# clinSelect = widgets.Select(options=my_list)\n",
    "# widgets.interactive(view1, ClinicalDx=clinSelect) # We can replace Clinical Concept with actual Dx too if desired.\n",
    "\n",
    "# Adding ALL option. Delete the above if we don't want all option.\n",
    "def view1(ClinicalDx):\n",
    "    if ClinicalDx == 'All':\n",
    "        display(mergedDf)\n",
    "    else:\n",
    "        display(mergedDf[mergedDf['Clinical Concept']==ClinicalDx])\n",
    "\n",
    "clinSelect = widgets.Select(options=my_list)\n",
    "widgets.interactive(view1, ClinicalDx=clinSelect)"
   ]
  },
  {
   "cell_type": "code",
   "execution_count": null,
   "id": "cda65aa6",
   "metadata": {},
   "outputs": [],
   "source": [
    "# ADD another table with greatest counts for each dx etc. \n",
    "# ADD dropdown, exact match search, maybe clinical concept, title/aes. "
   ]
  }
 ],
 "metadata": {
  "kernelspec": {
   "display_name": "Python 3 (ipykernel)",
   "language": "python",
   "name": "python3"
  },
  "language_info": {
   "codemirror_mode": {
    "name": "ipython",
    "version": 3
   },
   "file_extension": ".py",
   "mimetype": "text/x-python",
   "name": "python",
   "nbconvert_exporter": "python",
   "pygments_lexer": "ipython3",
   "version": "3.10.5"
  }
 },
 "nbformat": 4,
 "nbformat_minor": 5
}
