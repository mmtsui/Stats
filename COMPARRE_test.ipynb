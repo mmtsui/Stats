{
 "cells": [
  {
   "cell_type": "code",
   "execution_count": 1,
   "id": "b342fc62",
   "metadata": {},
   "outputs": [],
   "source": [
    "import pandas as pd\n",
    "import numpy as np  \n",
    "import matplotlib.pyplot as plt\n",
    "%matplotlib inline\n",
    "import seaborn as sns \n",
    "pd.options.display.max_rows = 4000\n",
    "pd.options.display.max_columns = 50\n",
    "pd.options.mode.chained_assignment = None"
   ]
  },
  {
   "cell_type": "code",
   "execution_count": 2,
   "id": "17d3155d",
   "metadata": {},
   "outputs": [],
   "source": [
    "%%capture\n",
    "!jupyter nbconvert --to html --no-input --no-prompt Notebook.ipynb"
   ]
  },
  {
   "cell_type": "code",
   "execution_count": 8,
   "id": "e53c522e",
   "metadata": {},
   "outputs": [],
   "source": [
    "import warnings\n",
    "warnings.filterwarnings('ignore')"
   ]
  },
  {
   "cell_type": "code",
   "execution_count": 3,
   "id": "d6df204b",
   "metadata": {},
   "outputs": [
    {
     "name": "stdout",
     "output_type": "stream",
     "text": [
      "A1_FLAG\n",
      "A1_DATE_MIN_PRE\n",
      "A1_DATE_MIN_POST\n",
      "A1_DATE_MIN_DOD\n",
      "A1_DATE_MIN_VA\n"
     ]
    }
   ],
   "source": [
    "# Combine string \n",
    "# k = input(\"Please enter the clinical concept code: \")\n",
    "k = \"A1\"\n",
    "# print(k)\n",
    "\n",
    "flag = \"_FLAG\"\n",
    "preTBI = \"_DATE_MIN_PRE\"\n",
    "postTBI = \"_DATE_MIN_POST\"\n",
    "dod = \"_DATE_MIN_DOD\"\n",
    "va = \"_DATE_MIN_VA\"\n",
    "\n",
    "kflag = k + flag\n",
    "kpre = k + preTBI\n",
    "kpost = k + postTBI\n",
    "kdod = k + dod\n",
    "kva = k + va\n",
    "\n",
    "print(kflag)\n",
    "print(kpre)\n",
    "print(kpost)\n",
    "print(kdod)\n",
    "print(kva)"
   ]
  },
  {
   "cell_type": "code",
   "execution_count": 4,
   "id": "fbc26d4c",
   "metadata": {},
   "outputs": [
    {
     "data": {
      "text/html": [
       "<div>\n",
       "<style scoped>\n",
       "    .dataframe tbody tr th:only-of-type {\n",
       "        vertical-align: middle;\n",
       "    }\n",
       "\n",
       "    .dataframe tbody tr th {\n",
       "        vertical-align: top;\n",
       "    }\n",
       "\n",
       "    .dataframe thead th {\n",
       "        text-align: right;\n",
       "    }\n",
       "</style>\n",
       "<table border=\"1\" class=\"dataframe\">\n",
       "  <thead>\n",
       "    <tr style=\"text-align: right;\">\n",
       "      <th></th>\n",
       "      <th>A1_FLAG</th>\n",
       "      <th>A1_DATE_MIN_PRE</th>\n",
       "      <th>A2_FLAG</th>\n",
       "      <th>A2_DATE_MIN_PRE</th>\n",
       "    </tr>\n",
       "  </thead>\n",
       "  <tbody>\n",
       "    <tr>\n",
       "      <th>0</th>\n",
       "      <td>1</td>\n",
       "      <td>2.0</td>\n",
       "      <td>0</td>\n",
       "      <td>2.0</td>\n",
       "    </tr>\n",
       "    <tr>\n",
       "      <th>1</th>\n",
       "      <td>0</td>\n",
       "      <td>NaN</td>\n",
       "      <td>0</td>\n",
       "      <td>NaN</td>\n",
       "    </tr>\n",
       "    <tr>\n",
       "      <th>2</th>\n",
       "      <td>1</td>\n",
       "      <td>2.0</td>\n",
       "      <td>0</td>\n",
       "      <td>1.0</td>\n",
       "    </tr>\n",
       "    <tr>\n",
       "      <th>3</th>\n",
       "      <td>0</td>\n",
       "      <td>10.0</td>\n",
       "      <td>1</td>\n",
       "      <td>2.0</td>\n",
       "    </tr>\n",
       "    <tr>\n",
       "      <th>4</th>\n",
       "      <td>1</td>\n",
       "      <td>3.0</td>\n",
       "      <td>1</td>\n",
       "      <td>NaN</td>\n",
       "    </tr>\n",
       "  </tbody>\n",
       "</table>\n",
       "</div>"
      ],
      "text/plain": [
       "   A1_FLAG  A1_DATE_MIN_PRE  A2_FLAG  A2_DATE_MIN_PRE\n",
       "0        1              2.0        0              2.0\n",
       "1        0              NaN        0              NaN\n",
       "2        1              2.0        0              1.0\n",
       "3        0             10.0        1              2.0\n",
       "4        1              3.0        1              NaN"
      ]
     },
     "metadata": {},
     "output_type": "display_data"
    }
   ],
   "source": [
    "d = {'A1_FLAG': [1, 0, 1, 0, 1], 'A1_DATE_MIN_PRE': [2, None, 2, 10, 3], \n",
    "     'A2_FLAG': [0,0,0,1,1], 'A2_DATE_MIN_PRE': [2, None, 1, 2, None]}\n",
    "df = pd.DataFrame(data=d)\n",
    "display(df)"
   ]
  },
  {
   "cell_type": "code",
   "execution_count": 5,
   "id": "cc557f3f",
   "metadata": {},
   "outputs": [
    {
     "name": "stdout",
     "output_type": "stream",
     "text": [
      "\n",
      "DataFrame 2:\n"
     ]
    },
    {
     "name": "stderr",
     "output_type": "stream",
     "text": [
      "C:\\Users\\tsuim\\AppData\\Local\\Temp\\ipykernel_21708\\1290042130.py:34: FutureWarning: this method is deprecated in favour of `Styler.hide(axis=\"index\")`\n",
      "  display(df2.style.hide_index())\n"
     ]
    },
    {
     "data": {
      "text/html": [
       "<style type=\"text/css\">\n",
       "</style>\n",
       "<table id=\"T_ce717\">\n",
       "  <thead>\n",
       "    <tr>\n",
       "      <th id=\"T_ce717_level0_col0\" class=\"col_heading level0 col0\" >Column</th>\n",
       "      <th id=\"T_ce717_level0_col1\" class=\"col_heading level0 col1\" >n</th>\n",
       "      <th id=\"T_ce717_level0_col2\" class=\"col_heading level0 col2\" >%</th>\n",
       "    </tr>\n",
       "  </thead>\n",
       "  <tbody>\n",
       "    <tr>\n",
       "      <td id=\"T_ce717_row0_col0\" class=\"data row0 col0\" >A1_FLAG</td>\n",
       "      <td id=\"T_ce717_row0_col1\" class=\"data row0 col1\" >3</td>\n",
       "      <td id=\"T_ce717_row0_col2\" class=\"data row0 col2\" >60.000000</td>\n",
       "    </tr>\n",
       "    <tr>\n",
       "      <td id=\"T_ce717_row1_col0\" class=\"data row1 col0\" >A1_DATE_MIN_PRE</td>\n",
       "      <td id=\"T_ce717_row1_col1\" class=\"data row1 col1\" >4</td>\n",
       "      <td id=\"T_ce717_row1_col2\" class=\"data row1 col2\" >80.000000</td>\n",
       "    </tr>\n",
       "    <tr>\n",
       "      <td id=\"T_ce717_row2_col0\" class=\"data row2 col0\" >A2_FLAG</td>\n",
       "      <td id=\"T_ce717_row2_col1\" class=\"data row2 col1\" >2</td>\n",
       "      <td id=\"T_ce717_row2_col2\" class=\"data row2 col2\" >40.000000</td>\n",
       "    </tr>\n",
       "    <tr>\n",
       "      <td id=\"T_ce717_row3_col0\" class=\"data row3 col0\" >A2_DATE_MIN_PRE</td>\n",
       "      <td id=\"T_ce717_row3_col1\" class=\"data row3 col1\" >3</td>\n",
       "      <td id=\"T_ce717_row3_col2\" class=\"data row3 col2\" >60.000000</td>\n",
       "    </tr>\n",
       "  </tbody>\n",
       "</table>\n"
      ],
      "text/plain": [
       "<pandas.io.formats.style.Styler at 0x27f851c2980>"
      ]
     },
     "metadata": {},
     "output_type": "display_data"
    }
   ],
   "source": [
    "#### Elliot's Code\n",
    "df1 = pd.DataFrame(d)\n",
    "\n",
    "# Function to transform df1 into df2\n",
    "def transform_dataframe(df1):\n",
    "    column_names = []\n",
    "    n_values = []\n",
    "    percentage_values = []\n",
    "\n",
    "    for column in df1.columns:\n",
    "        column_names.append(column)\n",
    "        valid_cells = df1[column][(df1[column] != 0) & (~df1[column].isnull())].count()\n",
    "        n_values.append(valid_cells)\n",
    "        percentage_values.append(valid_cells / len(df1[column]) * 100)\n",
    "\n",
    "    data = {\n",
    "        \"Column\": column_names,\n",
    "        \"n\": n_values,\n",
    "        \"%\": percentage_values\n",
    "    }\n",
    "\n",
    "    df2 = pd.DataFrame(data)\n",
    "    \n",
    "    return df2\n",
    "\n",
    "# Transform df1 into df2\n",
    "df2 = transform_dataframe(df1)\n",
    "\n",
    "# Print df1 and df2\n",
    "# print(\"DataFrame 1:\")\n",
    "# print(df1)\n",
    "\n",
    "print(\"\\nDataFrame 2:\")\n",
    "display(df2.style.hide_index())\n",
    "\n",
    "####"
   ]
  },
  {
   "cell_type": "code",
   "execution_count": 6,
   "id": "5663a22f",
   "metadata": {},
   "outputs": [
    {
     "ename": "AttributeError",
     "evalue": "'AxesSubplot' object has no attribute 'pct'",
     "output_type": "error",
     "traceback": [
      "\u001b[1;31m---------------------------------------------------------------------------\u001b[0m",
      "\u001b[1;31mAttributeError\u001b[0m                            Traceback (most recent call last)",
      "Cell \u001b[1;32mIn [6], line 4\u001b[0m\n\u001b[0;32m      2\u001b[0m plot \u001b[38;5;241m=\u001b[39m sns\u001b[38;5;241m.\u001b[39mbarplot(x\u001b[38;5;241m=\u001b[39m\u001b[38;5;124m\"\u001b[39m\u001b[38;5;124mColumn\u001b[39m\u001b[38;5;124m\"\u001b[39m, y\u001b[38;5;241m=\u001b[39m\u001b[38;5;124m'\u001b[39m\u001b[38;5;124mn\u001b[39m\u001b[38;5;124m'\u001b[39m, palette\u001b[38;5;241m=\u001b[39m\u001b[38;5;124m\"\u001b[39m\u001b[38;5;124mcrest\u001b[39m\u001b[38;5;124m\"\u001b[39m, data\u001b[38;5;241m=\u001b[39mdf2, label\u001b[38;5;241m=\u001b[39m\u001b[38;5;124m'\u001b[39m\u001b[38;5;124msmall\u001b[39m\u001b[38;5;124m'\u001b[39m)\n\u001b[0;32m      3\u001b[0m plot\u001b[38;5;241m.\u001b[39mset(xlabel \u001b[38;5;241m=\u001b[39m\u001b[38;5;124m\"\u001b[39m\u001b[38;5;124mVariables\u001b[39m\u001b[38;5;124m\"\u001b[39m, ylabel \u001b[38;5;241m=\u001b[39m \u001b[38;5;124m\"\u001b[39m\u001b[38;5;124mCount\u001b[39m\u001b[38;5;124m\"\u001b[39m, title\u001b[38;5;241m=\u001b[39m\u001b[38;5;124m\"\u001b[39m\u001b[38;5;124mTotal Diagnosed with \u001b[39m\u001b[38;5;124m\"\u001b[39m)\n\u001b[1;32m----> 4\u001b[0m pct \u001b[38;5;241m=\u001b[39m \u001b[43mplot\u001b[49m\u001b[38;5;241;43m.\u001b[39;49m\u001b[43mpct\u001b[49m\n\u001b[0;32m      5\u001b[0m percentage \u001b[38;5;241m=\u001b[39m df2[\u001b[38;5;124m\"\u001b[39m\u001b[38;5;124m%\u001b[39m\u001b[38;5;124m\"\u001b[39m]\n\u001b[0;32m      6\u001b[0m \u001b[38;5;28;01mfor\u001b[39;00m i \u001b[38;5;129;01min\u001b[39;00m \u001b[38;5;28mrange\u001b[39m(\u001b[38;5;28mlen\u001b[39m(pct)):\n",
      "\u001b[1;31mAttributeError\u001b[0m: 'AxesSubplot' object has no attribute 'pct'"
     ]
    },
    {
     "data": {
      "image/png": "[encoded data removed]",
      "text/plain": [
       "<Figure size 640x480 with 1 Axes>"
      ]
     },
     "metadata": {},
     "output_type": "display_data"
    }
   ],
   "source": [
    "sns.set(style=\"darkgrid\", color_codes=True)\n",
    "plot = sns.barplot(x=\"Column\", y='n', palette=\"crest\", data=df2, label='small')\n",
    "plot.set(xlabel =\"Variables\", ylabel = \"Count\", title=\"Total Diagnosed with \")\n",
    "pct = plot.pct\n",
    "percentage = df2[\"%\"]\n",
    "for i in range(len(pct)):\n",
    "   x = pct[i].get_x() + pct[i].get_width()/2\n",
    "   y = pct[i].get_height()+.05\n",
    "   plot.annotate('{:.1f}%'.format(percentage[i]), (x, y), ha='center')\n",
    "plt.show()\n"
   ]
  },
  {
   "cell_type": "code",
   "execution_count": null,
   "id": "a8405618",
   "metadata": {},
   "outputs": [],
   "source": [
    "df.replace(0, np.nan, inplace=True)"
   ]
  },
  {
   "cell_type": "code",
   "execution_count": null,
   "id": "c2619bcc",
   "metadata": {},
   "outputs": [],
   "source": [
    "# new_df = df.count().reset_index()\n",
    "# display(new_df)\n",
    "# new_df.rename(columns = {'index': 'variable', 0:'count'}, inplace = True)"
   ]
  },
  {
   "cell_type": "code",
   "execution_count": null,
   "id": "119a04d8",
   "metadata": {},
   "outputs": [],
   "source": [
    "df.count()"
   ]
  },
  {
   "cell_type": "code",
   "execution_count": null,
   "id": "bb0aadd1",
   "metadata": {},
   "outputs": [],
   "source": []
  }
 ],
 "metadata": {
  "kernelspec": {
   "display_name": "Python 3 (ipykernel)",
   "language": "python",
   "name": "python3"
  },
  "language_info": {
   "codemirror_mode": {
    "name": "ipython",
    "version": 3
   },
   "file_extension": ".py",
   "mimetype": "text/x-python",
   "name": "python",
   "nbconvert_exporter": "python",
   "pygments_lexer": "ipython3",
   "version": "3.10.5"
  }
 },
 "nbformat": 4,
 "nbformat_minor": 5
}
