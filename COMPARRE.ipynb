{
 "cells": [
  {
   "cell_type": "raw",
   "id": "b82d1bb2",
   "metadata": {},
   "source": [
    "%%capture\n",
    "!jupyter nbconvert --to html --no-input --no-prompt test.ipynb"
   ]
  },
  {
   "cell_type": "code",
   "execution_count": 8,
   "id": "4cb54516",
   "metadata": {},
   "outputs": [],
   "source": [
    "import pandas as pd\n",
    "import numpy as np  \n",
    "import seaborn as sns \n",
    "import matplotlib.pyplot as plt\n",
    "%matplotlib inline\n",
    "pd.options.display.max_rows = 100\n",
    "pd.options.display.max_columns = 50\n",
    "pd.options.mode.chained_assignment = None"
   ]
  },
  {
   "cell_type": "code",
   "execution_count": 9,
   "id": "4cd11977",
   "metadata": {},
   "outputs": [],
   "source": [
    "import warnings\n",
    "warnings.filterwarnings('ignore')"
   ]
  },
  {
   "cell_type": "code",
   "execution_count": 10,
   "id": "345bd311",
   "metadata": {},
   "outputs": [
    {
     "name": "stdout",
     "output_type": "stream",
     "text": [
      "(551127, 722)\n"
     ]
    }
   ],
   "source": [
    "df = pd.read_csv(\"PAT_FLAGS.csv\")\n",
    "print(df.shape)"
   ]
  },
  {
   "cell_type": "code",
   "execution_count": 11,
   "id": "3e9399cc",
   "metadata": {},
   "outputs": [],
   "source": [
    "# Replace standardize zeros with Nan. Important for count purposes. \n",
    "df.replace(0, np.nan, inplace=True)"
   ]
  },
  {
   "cell_type": "code",
   "execution_count": 12,
   "id": "768fa80f",
   "metadata": {},
   "outputs": [
    {
     "name": "stdout",
     "output_type": "stream",
     "text": [
      "Please enter the clinical concept code: A4\n"
     ]
    },
    {
     "data": {
      "text/html": [
       "<style type=\"text/css\">\n",
       "</style>\n",
       "<table id=\"T_afc22\">\n",
       "  <thead>\n",
       "    <tr>\n",
       "      <th id=\"T_afc22_level0_col0\" class=\"col_heading level0 col0\" >Column</th>\n",
       "      <th id=\"T_afc22_level0_col1\" class=\"col_heading level0 col1\" >n</th>\n",
       "      <th id=\"T_afc22_level0_col2\" class=\"col_heading level0 col2\" >%</th>\n",
       "    </tr>\n",
       "  </thead>\n",
       "  <tbody>\n",
       "    <tr>\n",
       "      <td id=\"T_afc22_row0_col0\" class=\"data row0 col0\" >Flag</td>\n",
       "      <td id=\"T_afc22_row0_col1\" class=\"data row0 col1\" >125</td>\n",
       "      <td id=\"T_afc22_row0_col2\" class=\"data row0 col2\" >0.022681</td>\n",
       "    </tr>\n",
       "    <tr>\n",
       "      <td id=\"T_afc22_row1_col0\" class=\"data row1 col0\" >Pre-TBI</td>\n",
       "      <td id=\"T_afc22_row1_col1\" class=\"data row1 col1\" >1</td>\n",
       "      <td id=\"T_afc22_row1_col2\" class=\"data row1 col2\" >0.000181</td>\n",
       "    </tr>\n",
       "    <tr>\n",
       "      <td id=\"T_afc22_row2_col0\" class=\"data row2 col0\" >Post-TBI</td>\n",
       "      <td id=\"T_afc22_row2_col1\" class=\"data row2 col1\" >124</td>\n",
       "      <td id=\"T_afc22_row2_col2\" class=\"data row2 col2\" >0.022499</td>\n",
       "    </tr>\n",
       "    <tr>\n",
       "      <td id=\"T_afc22_row3_col0\" class=\"data row3 col0\" >DOD</td>\n",
       "      <td id=\"T_afc22_row3_col1\" class=\"data row3 col1\" >125</td>\n",
       "      <td id=\"T_afc22_row3_col2\" class=\"data row3 col2\" >0.022681</td>\n",
       "    </tr>\n",
       "    <tr>\n",
       "      <td id=\"T_afc22_row4_col0\" class=\"data row4 col0\" >VA</td>\n",
       "      <td id=\"T_afc22_row4_col1\" class=\"data row4 col1\" >0</td>\n",
       "      <td id=\"T_afc22_row4_col2\" class=\"data row4 col2\" >0.000000</td>\n",
       "    </tr>\n",
       "  </tbody>\n",
       "</table>\n"
      ],
      "text/plain": [
       "<pandas.io.formats.style.Styler at 0x19e6a818940>"
      ]
     },
     "metadata": {},
     "output_type": "display_data"
    }
   ],
   "source": [
    "k = input(\"Please enter the clinical concept code: \")\n",
    "\n",
    "# Function to get specific clinical concept and change header\n",
    "def count_table(df, k):\n",
    "    flag = \"_FLAG\"\n",
    "    preTBI = \"_DATE_MIN_PRE\"\n",
    "    postTBI = \"_DATE_MIN_POST\"\n",
    "    dod = \"_DATE_MIN_DOD\"\n",
    "    va = \"_DATE_MIN_VA\"\n",
    "\n",
    "    kflag = k + flag\n",
    "    kpre = k + preTBI\n",
    "    kpost = k + postTBI\n",
    "    kdod = k + dod\n",
    "    kva = k + va\n",
    "    \n",
    "    df = df[[kflag, kpre, kpost, kdod, kva]]\n",
    "    \n",
    "    df = df.rename(columns={kflag: \"Flag\", kpre: \"Pre-TBI\",\n",
    "                           kpost: 'Post-TBI',\n",
    "                           kdod: \"DOD\",\n",
    "                           kva: \"VA\"})\n",
    "\n",
    "    return df\n",
    "\n",
    "# Function to generate table of counts and percent. \n",
    "def transform_dataframe(df1):\n",
    "    column_names = []\n",
    "    n_values = []\n",
    "    percentage_values = []\n",
    "\n",
    "    for column in df1.columns:\n",
    "        column_names.append(column)\n",
    "        valid_cells = df1[column][(df1[column] != 0) & (~df1[column].isnull())].count()\n",
    "        n_values.append(valid_cells)\n",
    "        percentage_values.append(valid_cells / len(df1[column]) * 100)\n",
    "\n",
    "    data = {\n",
    "        \"Column\": column_names,\n",
    "        \"n\": n_values,\n",
    "        \"%\": percentage_values\n",
    "    }\n",
    "\n",
    "    df2 = pd.DataFrame(data)\n",
    "\n",
    "    return df2\n",
    "\n",
    "df1 = count_table(df, k)\n",
    "df2 = transform_dataframe(df1)\n",
    "display(df2.style.hide_index())\n"
   ]
  },
  {
   "cell_type": "code",
   "execution_count": 13,
   "id": "c0802429",
   "metadata": {},
   "outputs": [],
   "source": [
    "clinDict = {\"A1\": \"AcuteStressReaction\",\n",
    "    \"A2\": \"AdjustmentDisorder\",\n",
    "    \"A3\":\"Alcohol\",\n",
    "    \"A4\":\"AntisocialBehavior\",\n",
    "    \"A5\":\"AttentionDeficit\",\n",
    "    \"A6\":\"BipolarI\",\n",
    "    \"A7\":\"BipolarII\",\n",
    "    \"A8\":\"Cannabis\",\n",
    "    \"A9\":\"Cocaine\",\n",
    "    \"A10\":\"ConductDisorder\",\n",
    "    \"A11\":\"ConversionDisorder\",\n",
    "    \"A12\":\"DissociativeDisorder\",\n",
    "    \"A13\":\"EatingDisorder\",\n",
    "    \"A14\":\"ExplosiveDisorder\",\n",
    "    \"A15\":\"FactitiousDisorder\",\n",
    "    \"A16\":\"GeneralizedAnxiety\",\n",
    "    \"A17\":\"TobaccoUse\",\n",
    "    \"A18\":\"HomicidalIdeation\",\n",
    "    \"A19\":\"ImpulseControl\",\n",
    "    \"A20\":\"MajorDepressive\",\n",
    "    \"A21\":\"ObsessiveCompulsive\",\n",
    "    \"A22\":\"Opioid\",\n",
    "    \"A23\":\"FLAG_Other\",\n",
    "    \"A24\":\"OtherAnxiety\",\n",
    "    \"A25\":\"OtherBipolar\",\n",
    "    \"A26\":\"OtherDepressive\",\n",
    "    \"A27\":\"OtherManic\",\n",
    "    \"A28\": \"OtherMood\",\n",
    "    \"A29\":\"OtherPsychosis\",\n",
    "    \"A30\":\"OtherStress\",\n",
    "    \"A31\":\"PainDisorder\",\n",
    "    \"A32\":\"PanicDisorder\",\n",
    "    \"A33\":\"AdultAbuse\",\n",
    "    \"A34\":\"Combat\",\n",
    "    \"A35\":\"Trauma\",\n",
    "    \"A36\":\"PersonalityDisorder\",\n",
    "    \"A37\":\"PhobicDisorder\",\n",
    "    \"A38\":\"PTSD\",\n",
    "    \"A39\":\"Schizophrenia\",\n",
    "    \"A40\":\"SelfHarm\",\n",
    "    \"A41\":\"SomatoformDisorder\",\n",
    "    \"A42\":\"OtherSubstance\",\n",
    "    \"A43\":\"TobaccoSubstance\",\n",
    "    \"A44\":\"SuicideAttempt\",\n",
    "    \"A45\":\"SuicideIdeation\"}\n"
   ]
  },
  {
   "cell_type": "code",
   "execution_count": 16,
   "id": "2bb95824",
   "metadata": {},
   "outputs": [
    {
     "data": {
      "image/png": "[encoded data removed]",
      "text/plain": [
       "<Figure size 640x480 with 1 Axes>"
      ]
     },
     "metadata": {},
     "output_type": "display_data"
    }
   ],
   "source": [
    "# NEEDS MORE WORK TO DO \n",
    "sns.set(style=\"darkgrid\", color_codes=True)\n",
    "plot = sns.barplot(x=\"Column\", y='n', palette=\"crest\", data=df2, label='small')\n",
    "plot.set(xlabel =\"Variables\", ylabel = \"Count\", title=\"Total Diagnosed with \" + clinDict[k])\n",
    "total = float(len(df2))\n",
    "for i, p in enumerate(plot.patches):\n",
    "    number = '{}'.format(df2[\"n\"][i])\n",
    "    x = p.get_x() + p.get_width() / 2 - 0.1\n",
    "    y = p.get_y() + p.get_height() \n",
    "    plot.annotate(number, (x, y), size = 10)\n",
    "plt.show()"
   ]
  },
  {
   "cell_type": "code",
   "execution_count": null,
   "id": "20ba371c",
   "metadata": {},
   "outputs": [],
   "source": []
  }
 ],
 "metadata": {
  "kernelspec": {
   "display_name": "Python 3 (ipykernel)",
   "language": "python",
   "name": "python3"
  },
  "language_info": {
   "codemirror_mode": {
    "name": "ipython",
    "version": 3
   },
   "file_extension": ".py",
   "mimetype": "text/x-python",
   "name": "python",
   "nbconvert_exporter": "python",
   "pygments_lexer": "ipython3",
   "version": "3.10.5"
  }
 },
 "nbformat": 4,
 "nbformat_minor": 5
}
